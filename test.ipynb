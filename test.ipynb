{
 "cells": [
  {
   "cell_type": "code",
   "execution_count": null,
   "metadata": {},
   "outputs": [],
   "source": [
    "%python -m pip install <xyz> -U --fore-reinstall"
   ]
  },
  {
   "cell_type": "code",
   "execution_count": 1,
   "metadata": {},
   "outputs": [],
   "source": [
    "from scraping_tuteimpo import *\n",
    "import requests\n",
    "from bs4 import BeautifulSoup\n",
    "import re\n",
    "import pandas as pd"
   ]
  },
  {
   "cell_type": "code",
   "execution_count": 2,
   "metadata": {},
   "outputs": [],
   "source": [
    "headers = {'User-Agent': 'Mozilla/5.0 (Windows NT 10.0; Win64; x64) AppleWebKit/537.36 (KHTML, like Gecko) Chrome/86.0.4240.75 Safari/537.36/null'}\n",
    "\n",
    "url = 'https://en.tutiempo.net/climate/algeria.html'\n",
    "\n",
    "responce = requests.get(url, headers=headers)\n",
    "\n",
    "soup = BeautifulSoup(responce.text, 'html.parser')\n",
    "\n",
    "\n",
    "links = []\n",
    "for li in soup.find_all(\"li\"):\n",
    "    a_tag = li.find(\"a\")\n",
    "    if a_tag and a_tag.get(\"title\") and a_tag[\"title\"].startswith(\"Climate data:\"):\n",
    "        link = \"https://en.tutiempo.net\" + a_tag[\"href\"]\n",
    "        links.append(link)\n",
    "\n",
    "\n",
    "# from_link_to_csv(links[0])"
   ]
  },
  {
   "cell_type": "code",
   "execution_count": 3,
   "metadata": {},
   "outputs": [],
   "source": [
    "def from_link_to_csv(link):\n",
    "    title = retrive_title(link)\n",
    "    print(title)\n",
    "    all_years = retrive_all_years(link)\n",
    "    print(all_years)\n",
    "    all_months_links  = []\n",
    "    for year in all_years:\n",
    "        all_months = retrive_all_month(year)\n",
    "        all_months_links.append(all_months)\n",
    "\n",
    "    result_all_months_links = [item for sublist in all_months_links for item in sublist]\n",
    "\n",
    "    print(result_all_months_links)\n",
    "    \n",
    "    dfs = []\n",
    "    for month_link in result_all_months_links:\n",
    "        df = retrive_data_from_month(month_link)\n",
    "        dfs.append(df)\n",
    "    final_df = pd.concat(dfs, ignore_index=True)\n",
    "\n",
    "    # print (final_df)\n",
    "\n",
    "    print(f'start {title}')\n",
    "    final_df.to_csv(f'{title}.csv', index=False)\n",
    "    print(f'finish {title}')"
   ]
  },
  {
   "cell_type": "code",
   "execution_count": 4,
   "metadata": {},
   "outputs": [],
   "source": [
    "list_test  =['https://en.tutiempo.net/climate/1965/ws-606200.html', 'https://en.tutiempo.net/climate/1966/ws-606200.html', 'https://en.tutiempo.net/climate/1967/ws-606200.html', 'https://en.tutiempo.net/climate/1973/ws-606200.html', 'https://en.tutiempo.net/climate/1974/ws-606200.html', 'https://en.tutiempo.net/climate/1975/ws-606200.html', 'https://en.tutiempo.net/climate/1976/ws-606200.html', 'https://en.tutiempo.net/climate/1977/ws-606200.html']"
   ]
  },
  {
   "cell_type": "code",
   "execution_count": 5,
   "metadata": {},
   "outputs": [
    {
     "name": "stdout",
     "output_type": "stream",
     "text": [
      "['https://en.tutiempo.net/climate/09-1965/ws-606200.html', 'https://en.tutiempo.net/climate/10-1965/ws-606200.html', 'https://en.tutiempo.net/climate/11-1965/ws-606200.html', 'https://en.tutiempo.net/climate/12-1965/ws-606200.html', 'https://en.tutiempo.net/climate/01-1966/ws-606200.html', 'https://en.tutiempo.net/climate/02-1966/ws-606200.html', 'https://en.tutiempo.net/climate/03-1966/ws-606200.html', 'https://en.tutiempo.net/climate/04-1966/ws-606200.html', 'https://en.tutiempo.net/climate/05-1966/ws-606200.html', 'https://en.tutiempo.net/climate/06-1966/ws-606200.html', 'https://en.tutiempo.net/climate/07-1966/ws-606200.html', 'https://en.tutiempo.net/climate/08-1966/ws-606200.html', 'https://en.tutiempo.net/climate/09-1966/ws-606200.html', 'https://en.tutiempo.net/climate/10-1966/ws-606200.html', 'https://en.tutiempo.net/climate/11-1966/ws-606200.html', 'https://en.tutiempo.net/climate/12-1966/ws-606200.html', 'https://en.tutiempo.net/climate/01-1967/ws-606200.html', 'https://en.tutiempo.net/climate/02-1967/ws-606200.html', 'https://en.tutiempo.net/climate/04-1967/ws-606200.html', 'https://en.tutiempo.net/climate/05-1967/ws-606200.html', 'https://en.tutiempo.net/climate/06-1967/ws-606200.html', 'https://en.tutiempo.net/climate/08-1967/ws-606200.html', 'https://en.tutiempo.net/climate/09-1967/ws-606200.html', 'https://en.tutiempo.net/climate/11-1967/ws-606200.html', 'https://en.tutiempo.net/climate/12-1967/ws-606200.html', 'https://en.tutiempo.net/climate/01-1973/ws-606200.html', 'https://en.tutiempo.net/climate/02-1973/ws-606200.html', 'https://en.tutiempo.net/climate/03-1973/ws-606200.html', 'https://en.tutiempo.net/climate/04-1973/ws-606200.html', 'https://en.tutiempo.net/climate/05-1973/ws-606200.html', 'https://en.tutiempo.net/climate/06-1973/ws-606200.html', 'https://en.tutiempo.net/climate/07-1973/ws-606200.html', 'https://en.tutiempo.net/climate/08-1973/ws-606200.html', 'https://en.tutiempo.net/climate/09-1973/ws-606200.html', 'https://en.tutiempo.net/climate/10-1973/ws-606200.html', 'https://en.tutiempo.net/climate/11-1973/ws-606200.html', 'https://en.tutiempo.net/climate/12-1973/ws-606200.html', 'https://en.tutiempo.net/climate/01-1974/ws-606200.html', 'https://en.tutiempo.net/climate/10-1974/ws-606200.html', 'https://en.tutiempo.net/climate/11-1974/ws-606200.html', 'https://en.tutiempo.net/climate/02-1975/ws-606200.html', 'https://en.tutiempo.net/climate/03-1975/ws-606200.html', 'https://en.tutiempo.net/climate/05-1975/ws-606200.html', 'https://en.tutiempo.net/climate/06-1975/ws-606200.html', 'https://en.tutiempo.net/climate/07-1975/ws-606200.html', 'https://en.tutiempo.net/climate/08-1975/ws-606200.html', 'https://en.tutiempo.net/climate/09-1975/ws-606200.html', 'https://en.tutiempo.net/climate/10-1975/ws-606200.html', 'https://en.tutiempo.net/climate/11-1975/ws-606200.html', 'https://en.tutiempo.net/climate/12-1975/ws-606200.html', 'https://en.tutiempo.net/climate/01-1976/ws-606200.html', 'https://en.tutiempo.net/climate/02-1976/ws-606200.html', 'https://en.tutiempo.net/climate/03-1976/ws-606200.html', 'https://en.tutiempo.net/climate/04-1976/ws-606200.html', 'https://en.tutiempo.net/climate/05-1976/ws-606200.html', 'https://en.tutiempo.net/climate/11-1976/ws-606200.html', 'https://en.tutiempo.net/climate/12-1976/ws-606200.html', 'https://en.tutiempo.net/climate/01-1977/ws-606200.html', 'https://en.tutiempo.net/climate/02-1977/ws-606200.html', 'https://en.tutiempo.net/climate/03-1977/ws-606200.html', 'https://en.tutiempo.net/climate/04-1977/ws-606200.html', 'https://en.tutiempo.net/climate/05-1977/ws-606200.html', 'https://en.tutiempo.net/climate/06-1977/ws-606200.html', 'https://en.tutiempo.net/climate/07-1977/ws-606200.html', 'https://en.tutiempo.net/climate/08-1977/ws-606200.html', 'https://en.tutiempo.net/climate/09-1977/ws-606200.html', 'https://en.tutiempo.net/climate/10-1977/ws-606200.html', 'https://en.tutiempo.net/climate/11-1977/ws-606200.html', 'https://en.tutiempo.net/climate/12-1977/ws-606200.html']\n",
      "start Climate_Adrar_Climate_data__1965__2022\n",
      "finish Climate_Adrar_Climate_data__1965__2022\n"
     ]
    }
   ],
   "source": [
    "link = 'https://en.tutiempo.net/climate/ws-606200.html'\n",
    "title = retrive_title(link)\n",
    "all_months_links  = []\n",
    "for year in list_test:\n",
    "    all_months = retrive_all_month(year)\n",
    "    all_months_links.append(all_months)\n",
    "\n",
    "result_all_months_links = [item for sublist in all_months_links for item in sublist]\n",
    "\n",
    "print(result_all_months_links)\n",
    "\n",
    "dfs = []\n",
    "for month_link in result_all_months_links:\n",
    "    df = retrive_data_from_month(month_link)\n",
    "    dfs.append(df)\n",
    "final_df = pd.concat(dfs, ignore_index=True)\n",
    "\n",
    "# print (final_df)\n",
    "\n",
    "print(f'start {title}')\n",
    "final_df.to_csv(f'{title}.csv', index=False)\n",
    "print(f'finish {title}')"
   ]
  },
  {
   "cell_type": "code",
   "execution_count": null,
   "metadata": {},
   "outputs": [],
   "source": [
    "from_link_to_csv(links[0])"
   ]
  }
 ],
 "metadata": {
  "kernelspec": {
   "display_name": "tf",
   "language": "python",
   "name": "python3"
  },
  "language_info": {
   "codemirror_mode": {
    "name": "ipython",
    "version": 3
   },
   "file_extension": ".py",
   "mimetype": "text/x-python",
   "name": "python",
   "nbconvert_exporter": "python",
   "pygments_lexer": "ipython3",
   "version": "3.9.15"
  },
  "orig_nbformat": 4,
  "vscode": {
   "interpreter": {
    "hash": "04f02d5908ff298835823772589579169cbe2f01a21d3fe3e79b3e73212121d5"
   }
  }
 },
 "nbformat": 4,
 "nbformat_minor": 2
}
